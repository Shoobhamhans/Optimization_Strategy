{
 "cells": [
  {
   "cell_type": "code",
   "execution_count": 1,
   "id": "89020611",
   "metadata": {},
   "outputs": [],
   "source": [
    "import numpy as np \n",
    "import pandas as pd \n",
    "import matplotlib.pyplot as plt\n",
    "import seaborn as sns \n",
    "from sklearn.model_selection import train_test_split\n",
    "from sklearn.neural_network import MLPClassifier\n",
    "from dmba import classificationSummary"
   ]
  },
  {
   "cell_type": "code",
   "execution_count": 2,
   "id": "77a7c93a",
   "metadata": {},
   "outputs": [],
   "source": [
    "# The company is in loss and are trying to improve their performance. So they are planning to increase their profit by reducing the transportation and manufacturing costs.\n",
    "#Also developed a linear programming problem model to find these optimal values so that they can maximize their profit."
   ]
  },
  {
   "cell_type": "code",
   "execution_count": 3,
   "id": "746c8af8",
   "metadata": {},
   "outputs": [],
   "source": [
    "shipping_df = pd.read_csv('supply_chain_data.csv')"
   ]
  },
  {
   "cell_type": "code",
   "execution_count": 4,
   "id": "ae6a0bff",
   "metadata": {},
   "outputs": [
    {
     "data": {
      "text/html": [
       "<div>\n",
       "<style scoped>\n",
       "    .dataframe tbody tr th:only-of-type {\n",
       "        vertical-align: middle;\n",
       "    }\n",
       "\n",
       "    .dataframe tbody tr th {\n",
       "        vertical-align: top;\n",
       "    }\n",
       "\n",
       "    .dataframe thead th {\n",
       "        text-align: right;\n",
       "    }\n",
       "</style>\n",
       "<table border=\"1\" class=\"dataframe\">\n",
       "  <thead>\n",
       "    <tr style=\"text-align: right;\">\n",
       "      <th></th>\n",
       "      <th>Product type</th>\n",
       "      <th>SKU</th>\n",
       "      <th>Price</th>\n",
       "      <th>Availability</th>\n",
       "      <th>Number of products sold</th>\n",
       "      <th>Revenue generated</th>\n",
       "      <th>Customer demographics</th>\n",
       "      <th>Stock levels</th>\n",
       "      <th>Lead times</th>\n",
       "      <th>Order quantities</th>\n",
       "      <th>...</th>\n",
       "      <th>Location</th>\n",
       "      <th>Lead time</th>\n",
       "      <th>Production volumes</th>\n",
       "      <th>Manufacturing lead time</th>\n",
       "      <th>Manufacturing costs</th>\n",
       "      <th>Inspection results</th>\n",
       "      <th>Defect rates</th>\n",
       "      <th>Transportation modes</th>\n",
       "      <th>Routes</th>\n",
       "      <th>Costs</th>\n",
       "    </tr>\n",
       "  </thead>\n",
       "  <tbody>\n",
       "    <tr>\n",
       "      <th>0</th>\n",
       "      <td>haircare</td>\n",
       "      <td>SKU0</td>\n",
       "      <td>69.808006</td>\n",
       "      <td>55</td>\n",
       "      <td>802</td>\n",
       "      <td>8661.996792</td>\n",
       "      <td>Non-binary</td>\n",
       "      <td>58</td>\n",
       "      <td>7</td>\n",
       "      <td>96</td>\n",
       "      <td>...</td>\n",
       "      <td>Mumbai</td>\n",
       "      <td>29</td>\n",
       "      <td>215</td>\n",
       "      <td>29</td>\n",
       "      <td>46.279879</td>\n",
       "      <td>Pending</td>\n",
       "      <td>0.226410</td>\n",
       "      <td>Road</td>\n",
       "      <td>Route B</td>\n",
       "      <td>187.752075</td>\n",
       "    </tr>\n",
       "    <tr>\n",
       "      <th>1</th>\n",
       "      <td>skincare</td>\n",
       "      <td>SKU1</td>\n",
       "      <td>14.843523</td>\n",
       "      <td>95</td>\n",
       "      <td>736</td>\n",
       "      <td>7460.900065</td>\n",
       "      <td>Female</td>\n",
       "      <td>53</td>\n",
       "      <td>30</td>\n",
       "      <td>37</td>\n",
       "      <td>...</td>\n",
       "      <td>Mumbai</td>\n",
       "      <td>23</td>\n",
       "      <td>517</td>\n",
       "      <td>30</td>\n",
       "      <td>33.616769</td>\n",
       "      <td>Pending</td>\n",
       "      <td>4.854068</td>\n",
       "      <td>Road</td>\n",
       "      <td>Route B</td>\n",
       "      <td>503.065579</td>\n",
       "    </tr>\n",
       "    <tr>\n",
       "      <th>2</th>\n",
       "      <td>haircare</td>\n",
       "      <td>SKU2</td>\n",
       "      <td>11.319683</td>\n",
       "      <td>34</td>\n",
       "      <td>8</td>\n",
       "      <td>9577.749626</td>\n",
       "      <td>Unknown</td>\n",
       "      <td>1</td>\n",
       "      <td>10</td>\n",
       "      <td>88</td>\n",
       "      <td>...</td>\n",
       "      <td>Mumbai</td>\n",
       "      <td>12</td>\n",
       "      <td>971</td>\n",
       "      <td>27</td>\n",
       "      <td>30.688019</td>\n",
       "      <td>Pending</td>\n",
       "      <td>4.580593</td>\n",
       "      <td>Air</td>\n",
       "      <td>Route C</td>\n",
       "      <td>141.920282</td>\n",
       "    </tr>\n",
       "    <tr>\n",
       "      <th>3</th>\n",
       "      <td>skincare</td>\n",
       "      <td>SKU3</td>\n",
       "      <td>61.163343</td>\n",
       "      <td>68</td>\n",
       "      <td>83</td>\n",
       "      <td>7766.836426</td>\n",
       "      <td>Non-binary</td>\n",
       "      <td>23</td>\n",
       "      <td>13</td>\n",
       "      <td>59</td>\n",
       "      <td>...</td>\n",
       "      <td>Kolkata</td>\n",
       "      <td>24</td>\n",
       "      <td>937</td>\n",
       "      <td>18</td>\n",
       "      <td>35.624741</td>\n",
       "      <td>Fail</td>\n",
       "      <td>4.746649</td>\n",
       "      <td>Rail</td>\n",
       "      <td>Route A</td>\n",
       "      <td>254.776159</td>\n",
       "    </tr>\n",
       "    <tr>\n",
       "      <th>4</th>\n",
       "      <td>skincare</td>\n",
       "      <td>SKU4</td>\n",
       "      <td>4.805496</td>\n",
       "      <td>26</td>\n",
       "      <td>871</td>\n",
       "      <td>2686.505152</td>\n",
       "      <td>Non-binary</td>\n",
       "      <td>5</td>\n",
       "      <td>3</td>\n",
       "      <td>56</td>\n",
       "      <td>...</td>\n",
       "      <td>Delhi</td>\n",
       "      <td>5</td>\n",
       "      <td>414</td>\n",
       "      <td>3</td>\n",
       "      <td>92.065161</td>\n",
       "      <td>Fail</td>\n",
       "      <td>3.145580</td>\n",
       "      <td>Air</td>\n",
       "      <td>Route A</td>\n",
       "      <td>923.440632</td>\n",
       "    </tr>\n",
       "  </tbody>\n",
       "</table>\n",
       "<p>5 rows × 24 columns</p>\n",
       "</div>"
      ],
      "text/plain": [
       "  Product type   SKU      Price  Availability  Number of products sold  \\\n",
       "0     haircare  SKU0  69.808006            55                      802   \n",
       "1     skincare  SKU1  14.843523            95                      736   \n",
       "2     haircare  SKU2  11.319683            34                        8   \n",
       "3     skincare  SKU3  61.163343            68                       83   \n",
       "4     skincare  SKU4   4.805496            26                      871   \n",
       "\n",
       "   Revenue generated Customer demographics  Stock levels  Lead times  \\\n",
       "0        8661.996792            Non-binary            58           7   \n",
       "1        7460.900065                Female            53          30   \n",
       "2        9577.749626               Unknown             1          10   \n",
       "3        7766.836426            Non-binary            23          13   \n",
       "4        2686.505152            Non-binary             5           3   \n",
       "\n",
       "   Order quantities  ...  Location Lead time  Production volumes  \\\n",
       "0                96  ...    Mumbai        29                 215   \n",
       "1                37  ...    Mumbai        23                 517   \n",
       "2                88  ...    Mumbai        12                 971   \n",
       "3                59  ...   Kolkata        24                 937   \n",
       "4                56  ...     Delhi         5                 414   \n",
       "\n",
       "  Manufacturing lead time Manufacturing costs  Inspection results  \\\n",
       "0                      29           46.279879             Pending   \n",
       "1                      30           33.616769             Pending   \n",
       "2                      27           30.688019             Pending   \n",
       "3                      18           35.624741                Fail   \n",
       "4                       3           92.065161                Fail   \n",
       "\n",
       "   Defect rates  Transportation modes   Routes       Costs  \n",
       "0      0.226410                  Road  Route B  187.752075  \n",
       "1      4.854068                  Road  Route B  503.065579  \n",
       "2      4.580593                   Air  Route C  141.920282  \n",
       "3      4.746649                  Rail  Route A  254.776159  \n",
       "4      3.145580                   Air  Route A  923.440632  \n",
       "\n",
       "[5 rows x 24 columns]"
      ]
     },
     "execution_count": 4,
     "metadata": {},
     "output_type": "execute_result"
    }
   ],
   "source": [
    "shipping_df.head()"
   ]
  },
  {
   "cell_type": "code",
   "execution_count": 5,
   "id": "36d6ff51",
   "metadata": {},
   "outputs": [
    {
     "data": {
      "text/plain": [
       "Product type               0\n",
       "SKU                        0\n",
       "Price                      0\n",
       "Availability               0\n",
       "Number of products sold    0\n",
       "Revenue generated          0\n",
       "Customer demographics      0\n",
       "Stock levels               0\n",
       "Lead times                 0\n",
       "Order quantities           0\n",
       "Shipping times             0\n",
       "Shipping carriers          0\n",
       "Shipping costs             0\n",
       "Supplier name              0\n",
       "Location                   0\n",
       "Lead time                  0\n",
       "Production volumes         0\n",
       "Manufacturing lead time    0\n",
       "Manufacturing costs        0\n",
       "Inspection results         0\n",
       "Defect rates               0\n",
       "Transportation modes       0\n",
       "Routes                     0\n",
       "Costs                      0\n",
       "dtype: int64"
      ]
     },
     "execution_count": 5,
     "metadata": {},
     "output_type": "execute_result"
    }
   ],
   "source": [
    "shipping_df.isna().sum()"
   ]
  },
  {
   "cell_type": "code",
   "execution_count": 6,
   "id": "e89df7cd",
   "metadata": {},
   "outputs": [
    {
     "data": {
      "text/plain": [
       "Index(['Product type', 'SKU', 'Price', 'Availability',\n",
       "       'Number of products sold', 'Revenue generated', 'Customer demographics',\n",
       "       'Stock levels', 'Lead times', 'Order quantities', 'Shipping times',\n",
       "       'Shipping carriers', 'Shipping costs', 'Supplier name', 'Location',\n",
       "       'Lead time', 'Production volumes', 'Manufacturing lead time',\n",
       "       'Manufacturing costs', 'Inspection results', 'Defect rates',\n",
       "       'Transportation modes', 'Routes', 'Costs'],\n",
       "      dtype='object')"
      ]
     },
     "execution_count": 6,
     "metadata": {},
     "output_type": "execute_result"
    }
   ],
   "source": [
    "shipping_df.columns"
   ]
  },
  {
   "cell_type": "code",
   "execution_count": 7,
   "id": "f8081165",
   "metadata": {},
   "outputs": [
    {
     "name": "stdout",
     "output_type": "stream",
     "text": [
      "   Product type      Price  Availability  Number of products sold  \\\n",
      "0      haircare  69.808006            55                      802   \n",
      "1      skincare  14.843523            95                      736   \n",
      "2      haircare  11.319683            34                        8   \n",
      "3      skincare  61.163343            68                       83   \n",
      "4      skincare   4.805496            26                      871   \n",
      "..          ...        ...           ...                      ...   \n",
      "95     haircare  77.903927            65                      672   \n",
      "96    cosmetics  24.423131            29                      324   \n",
      "97     haircare   3.526111            56                       62   \n",
      "98     skincare  19.754605            43                      913   \n",
      "99     haircare  68.517833            17                      627   \n",
      "\n",
      "    Revenue generated  Stock levels  Lead times  Order quantities  \\\n",
      "0         8661.996792            58           7                96   \n",
      "1         7460.900065            53          30                37   \n",
      "2         9577.749626             1          10                88   \n",
      "3         7766.836426            23          13                59   \n",
      "4         2686.505152             5           3                56   \n",
      "..                ...           ...         ...               ...   \n",
      "95        7386.363944            15          14                26   \n",
      "96        7698.424766            67           2                32   \n",
      "97        4370.916580            46          19                 4   \n",
      "98        8525.952560            53           1                27   \n",
      "99        9185.185829            55           8                59   \n",
      "\n",
      "    Shipping times Shipping carriers  ...  Location Lead time  \\\n",
      "0                4         Carrier B  ...    Mumbai        29   \n",
      "1                2         Carrier A  ...    Mumbai        23   \n",
      "2                2         Carrier B  ...    Mumbai        12   \n",
      "3                6         Carrier C  ...   Kolkata        24   \n",
      "4                8         Carrier A  ...     Delhi         5   \n",
      "..             ...               ...  ...       ...       ...   \n",
      "95               9         Carrier B  ...    Mumbai        18   \n",
      "96               3         Carrier C  ...    Mumbai        28   \n",
      "97               9         Carrier A  ...    Mumbai        10   \n",
      "98               7         Carrier B  ...   Chennai        28   \n",
      "99               6         Carrier B  ...   Chennai        29   \n",
      "\n",
      "   Production volumes  Manufacturing lead time  Manufacturing costs  \\\n",
      "0                 215                       29            46.279879   \n",
      "1                 517                       30            33.616769   \n",
      "2                 971                       27            30.688019   \n",
      "3                 937                       18            35.624741   \n",
      "4                 414                        3            92.065161   \n",
      "..                ...                      ...                  ...   \n",
      "95                450                       26            58.890686   \n",
      "96                648                       28            17.803756   \n",
      "97                535                       13            65.765156   \n",
      "98                581                        9             5.604691   \n",
      "99                921                        2            38.072899   \n",
      "\n",
      "    Inspection results  Defect rates Transportation modes   Routes       Costs  \n",
      "0              Pending      0.226410                 Road  Route B  187.752075  \n",
      "1              Pending      4.854068                 Road  Route B  503.065579  \n",
      "2              Pending      4.580593                  Air  Route C  141.920282  \n",
      "3                 Fail      4.746649                 Rail  Route A  254.776159  \n",
      "4                 Fail      3.145580                  Air  Route A  923.440632  \n",
      "..                 ...           ...                  ...      ...         ...  \n",
      "95             Pending      1.210882                  Air  Route A  778.864241  \n",
      "96             Pending      3.872048                 Road  Route A  188.742141  \n",
      "97                Fail      3.376238                 Road  Route A  540.132423  \n",
      "98             Pending      2.908122                 Rail  Route A  882.198864  \n",
      "99                Fail      0.346027                 Rail  Route B  210.743009  \n",
      "\n",
      "[100 rows x 22 columns]\n"
     ]
    }
   ],
   "source": [
    "# Specify the columns to be dropped\n",
    "columns_to_drop = ['SKU', 'Customer demographics']\n",
    "\n",
    "# Drop the specified columns\n",
    "df = shipping_df.drop(columns_to_drop, axis=1)\n",
    "\n",
    "# Print the updated DataFrame\n",
    "print(df)"
   ]
  },
  {
   "cell_type": "code",
   "execution_count": 64,
   "id": "c5832862",
   "metadata": {},
   "outputs": [
    {
     "name": "stdout",
     "output_type": "stream",
     "text": [
      "   Product type      Price  Availability  Number of products sold  \\\n",
      "0      haircare  69.808006            55                      802   \n",
      "1      skincare  14.843523            95                      736   \n",
      "2      haircare  11.319683            34                        8   \n",
      "3      skincare  61.163343            68                       83   \n",
      "4      skincare   4.805496            26                      871   \n",
      "..          ...        ...           ...                      ...   \n",
      "95     haircare  77.903927            65                      672   \n",
      "96    cosmetics  24.423131            29                      324   \n",
      "97     haircare   3.526111            56                       62   \n",
      "98     skincare  19.754605            43                      913   \n",
      "99     haircare  68.517833            17                      627   \n",
      "\n",
      "    Revenue generated  Stock levels  Lead times  Order quantities  \\\n",
      "0         8661.996792            58           7                96   \n",
      "1         7460.900065            53          30                37   \n",
      "2         9577.749626             1          10                88   \n",
      "3         7766.836426            23          13                59   \n",
      "4         2686.505152             5           3                56   \n",
      "..                ...           ...         ...               ...   \n",
      "95        7386.363944            15          14                26   \n",
      "96        7698.424766            67           2                32   \n",
      "97        4370.916580            46          19                 4   \n",
      "98        8525.952560            53           1                27   \n",
      "99        9185.185829            55           8                59   \n",
      "\n",
      "    Shipping times Shipping carriers  ...  Lead time Production volumes  \\\n",
      "0                4         Carrier B  ...         29                215   \n",
      "1                2         Carrier A  ...         23                517   \n",
      "2                2         Carrier B  ...         12                971   \n",
      "3                6         Carrier C  ...         24                937   \n",
      "4                8         Carrier A  ...          5                414   \n",
      "..             ...               ...  ...        ...                ...   \n",
      "95               9         Carrier B  ...         18                450   \n",
      "96               3         Carrier C  ...         28                648   \n",
      "97               9         Carrier A  ...         10                535   \n",
      "98               7         Carrier B  ...         28                581   \n",
      "99               6         Carrier B  ...         29                921   \n",
      "\n",
      "   Manufacturing lead time  Manufacturing costs  Inspection results  \\\n",
      "0                       29            46.279879             Pending   \n",
      "1                       30            33.616769             Pending   \n",
      "2                       27            30.688019             Pending   \n",
      "3                       18            35.624741                Fail   \n",
      "4                        3            92.065161                Fail   \n",
      "..                     ...                  ...                 ...   \n",
      "95                      26            58.890686             Pending   \n",
      "96                      28            17.803756             Pending   \n",
      "97                      13            65.765156                Fail   \n",
      "98                       9             5.604691             Pending   \n",
      "99                       2            38.072899                Fail   \n",
      "\n",
      "    Defect rates  Transportation modes   Routes       Costs      Profit  \n",
      "0       0.226410                  Road  Route B  187.752075  214.236774  \n",
      "1       4.854068                  Road  Route B  503.065579  494.008908  \n",
      "2       4.580593                   Air  Route C  141.920282  130.606425  \n",
      "3       4.746649                  Rail  Route A  254.776159  282.044329  \n",
      "4       3.145580                   Air  Route A  923.440632  840.071515  \n",
      "..           ...                   ...      ...         ...         ...  \n",
      "95      1.210882                   Air  Route A  778.864241  806.507822  \n",
      "96      3.872048                  Road  Route A  188.742141  200.714394  \n",
      "97      3.376238                  Road  Route A  540.132423  485.798224  \n",
      "98      2.908122                  Rail  Route A  882.198864  897.758579  \n",
      "99      0.346027                  Rail  Route B  210.743009  242.498967  \n",
      "\n",
      "[100 rows x 23 columns]\n"
     ]
    }
   ],
   "source": [
    "df['Profit'] = (df['Price'] - (df['Manufacturing costs'] - df['Shipping costs']-df['Costs'] ))\n",
    "\n",
    "# Print the updated DataFrame\n",
    "print(df)"
   ]
  },
  {
   "cell_type": "code",
   "execution_count": 65,
   "id": "4020f901",
   "metadata": {},
   "outputs": [
    {
     "name": "stdout",
     "output_type": "stream",
     "text": [
      "Product type: skincare, Profit: 22356.352438021393\n",
      "Product type: haircare, Profit: 17446.640304888933\n",
      "Product type: cosmetics, Profit: 13895.977190423122\n"
     ]
    }
   ],
   "source": [
    "# Group the data by product type and calculate the total profit for each group\n",
    "profit_by_product_type = df.groupby('Product type')['Profit'].sum()\n",
    "\n",
    "# Sort the profit in descending order\n",
    "sorted_profit = profit_by_product_type.sort_values(ascending=False)\n",
    "\n",
    "# Print the product types with their corresponding profit\n",
    "for product_type, profit in sorted_profit.items():\n",
    "    print(f\"Product type: {product_type}, Profit: {profit}\")"
   ]
  },
  {
   "cell_type": "code",
   "execution_count": 66,
   "id": "d0837305",
   "metadata": {},
   "outputs": [
    {
     "name": "stdout",
     "output_type": "stream",
     "text": [
      "Product type with maximum profit: skincare\n"
     ]
    }
   ],
   "source": [
    "# Group the data by 'Product type' and calculate the sum of 'Profit' for each group\n",
    "profit_by_product_type = df.groupby('Product type')['Profit'].sum()\n",
    "\n",
    "# Find the product type with the maximum profit\n",
    "max_profit_product_type = profit_by_product_type.idxmax()\n",
    "\n",
    "# Print the product type with the maximum profit\n",
    "print(\"Product type with maximum profit:\", max_profit_product_type)"
   ]
  },
  {
   "cell_type": "code",
   "execution_count": 67,
   "id": "04d026f4",
   "metadata": {},
   "outputs": [
    {
     "data": {
      "image/png": "[encoded data removed]",
      "text/plain": [
       "<Figure size 640x480 with 1 Axes>"
      ]
     },
     "metadata": {},
     "output_type": "display_data"
    }
   ],
   "source": [
    "Type = df['Product type'].value_counts()\n",
    "plt.pie(Type, labels=Type.index, autopct='%1.1f%%')\n",
    "plt.axis('equal')\n",
    "plt.title('Distribution of Product type')\n",
    "plt.show()"
   ]
  },
  {
   "cell_type": "code",
   "execution_count": 68,
   "id": "c238432c",
   "metadata": {},
   "outputs": [],
   "source": [
    "# The company is producing skincare products more than other two. This may be the reason they are getting more profits from skincare."
   ]
  },
  {
   "cell_type": "code",
   "execution_count": 69,
   "id": "228d0e75",
   "metadata": {},
   "outputs": [
    {
     "data": {
      "text/plain": [
       "Product type\n",
       "cosmetics    64.311917\n",
       "haircare     48.588874\n",
       "skincare     37.228419\n",
       "Name: Price, dtype: float64"
      ]
     },
     "execution_count": 69,
     "metadata": {},
     "output_type": "execute_result"
    }
   ],
   "source": [
    "df1 = df.groupby(['Product type'])\n",
    "df1['Price'].median()"
   ]
  },
  {
   "cell_type": "code",
   "execution_count": 70,
   "id": "177768a5",
   "metadata": {},
   "outputs": [
    {
     "data": {
      "text/plain": [
       "Shipping carriers\n",
       "Carrier A    5.126010\n",
       "Carrier B    5.773264\n",
       "Carrier C    5.352878\n",
       "Name: Shipping costs, dtype: float64"
      ]
     },
     "execution_count": 70,
     "metadata": {},
     "output_type": "execute_result"
    }
   ],
   "source": [
    "df1 = df.groupby(['Shipping carriers'])\n",
    "df1['Shipping costs'].median()"
   ]
  },
  {
   "cell_type": "code",
   "execution_count": 71,
   "id": "b664e889",
   "metadata": {},
   "outputs": [],
   "source": [
    "#Shipping carrier A has comparitively lower cost other than other two.So they can use carrier A for most of the possible shipping."
   ]
  },
  {
   "cell_type": "code",
   "execution_count": 72,
   "id": "e59f0920",
   "metadata": {},
   "outputs": [
    {
     "data": {
      "text/plain": [
       "Location   Transportation modes\n",
       "Bangalore  Road                     8\n",
       "           Rail                     5\n",
       "           Air                      3\n",
       "           Sea                      2\n",
       "Chennai    Air                      6\n",
       "           Rail                     5\n",
       "           Road                     5\n",
       "           Sea                      4\n",
       "Delhi      Rail                     8\n",
       "           Air                      4\n",
       "           Sea                      2\n",
       "           Road                     1\n",
       "Kolkata    Road                    10\n",
       "           Air                      6\n",
       "           Rail                     6\n",
       "           Sea                      3\n",
       "Mumbai     Air                      7\n",
       "           Sea                      6\n",
       "           Road                     5\n",
       "           Rail                     4\n",
       "Name: Transportation modes, dtype: int64"
      ]
     },
     "execution_count": 72,
     "metadata": {},
     "output_type": "execute_result"
    }
   ],
   "source": [
    "df1 = df.groupby(['Location'])\n",
    "df1['Transportation modes'].value_counts()"
   ]
  },
  {
   "cell_type": "code",
   "execution_count": 73,
   "id": "5c343e3a",
   "metadata": {},
   "outputs": [
    {
     "name": "stdout",
     "output_type": "stream",
     "text": [
      "Location   Transportation modes\n",
      "Bangalore  Air                     758.724773\n",
      "           Rail                    677.944570\n",
      "           Road                    591.449063\n",
      "           Sea                     407.573989\n",
      "Chennai    Air                     597.147653\n",
      "           Rail                    609.379207\n",
      "           Road                    510.358000\n",
      "           Sea                     579.517573\n",
      "Delhi      Air                     760.981463\n",
      "           Rail                    489.219944\n",
      "           Road                    110.364335\n",
      "           Sea                     438.216700\n",
      "Kolkata    Air                     260.118740\n",
      "           Rail                    386.138067\n",
      "           Road                    763.054643\n",
      "           Sea                     183.932968\n",
      "Mumbai     Air                     602.898499\n",
      "           Rail                    347.211993\n",
      "           Road                    503.065579\n",
      "           Sea                     322.219360\n",
      "Name: Costs, dtype: float64\n"
     ]
    }
   ],
   "source": [
    "grouped_df = df.groupby(['Location', 'Transportation modes'])['Costs'].median()\n",
    "\n",
    "# Print the grouped and median values\n",
    "print(grouped_df)"
   ]
  },
  {
   "cell_type": "code",
   "execution_count": 74,
   "id": "04827479",
   "metadata": {},
   "outputs": [
    {
     "data": {
      "image/png": "[encoded data removed]",
      "text/plain": [
       "<Figure size 640x480 with 1 Axes>"
      ]
     },
     "metadata": {},
     "output_type": "display_data"
    }
   ],
   "source": [
    "#https://stackoverflow.com/questions/57540200/how-to-construct-a-side-by-side-boxplot-for-a-pandas-dataframe\n",
    "import seaborn as sns\n",
    "ax = sns.boxplot(y='Costs', x='Location', data=df, hue='Transportation modes')\n",
    "ax.legend(loc='center left', bbox_to_anchor=(1, 0.5))\n",
    "plt.show()"
   ]
  },
  {
   "cell_type": "code",
   "execution_count": 75,
   "id": "2e405429",
   "metadata": {},
   "outputs": [],
   "source": [
    "#From the above graphs and analysis we can observe that in bangalore, the mode used widely is road but sea is more cheaper. Also \n",
    "#in chennai, the cheaper mode is road but widely used is air.So in non urgent cases road can be used to reduce the cost.\n",
    "#In Delhi Road is less expensive than other modes, so it can be used for most of the cases.In Kolkata,Road mode is highly expensive as compared to the other three and it is commonly used.\n",
    "#In Mumbai,Air is most commonly used which is expensive than other modes of transportation."
   ]
  },
  {
   "cell_type": "code",
   "execution_count": 76,
   "id": "2739dbca",
   "metadata": {},
   "outputs": [
    {
     "name": "stdout",
     "output_type": "stream",
     "text": [
      "Location   Routes \n",
      "Bangalore  Route A    682.971018\n",
      "           Route B    612.592788\n",
      "           Route C    351.504219\n",
      "Chennai    Route A    659.414771\n",
      "           Route B    510.358000\n",
      "           Route C    609.379207\n",
      "Delhi      Route A    482.191239\n",
      "           Route B    496.248650\n",
      "           Route C    553.420471\n",
      "Kolkata    Route A    254.776159\n",
      "           Route B    764.935376\n",
      "           Route C    555.859104\n",
      "Mumbai     Route A    347.211993\n",
      "           Route B    504.311357\n",
      "           Route C    322.219360\n",
      "Name: Costs, dtype: float64\n"
     ]
    }
   ],
   "source": [
    "grouped_df = df.groupby(['Location', 'Routes'])['Costs'].median()\n",
    "\n",
    "# Print the grouped and median values\n",
    "print(grouped_df)"
   ]
  },
  {
   "cell_type": "code",
   "execution_count": 77,
   "id": "b4223a70",
   "metadata": {},
   "outputs": [
    {
     "data": {
      "image/png": "[encoded data removed]",
      "text/plain": [
       "<Figure size 640x480 with 1 Axes>"
      ]
     },
     "metadata": {},
     "output_type": "display_data"
    }
   ],
   "source": [
    "#https://stackoverflow.com/questions/57540200/how-to-construct-a-side-by-side-boxplot-for-a-pandas-dataframe\n",
    "import seaborn as sns\n",
    "ax = sns.boxplot(y='Costs', x='Location', data=df, hue='Routes')\n",
    "ax.legend(loc='center left', bbox_to_anchor=(1, 0.5))\n",
    "plt.show()"
   ]
  },
  {
   "cell_type": "code",
   "execution_count": 78,
   "id": "26a9fc79",
   "metadata": {},
   "outputs": [
    {
     "data": {
      "image/png": "[encoded data removed]",
      "text/plain": [
       "<Figure size 640x480 with 1 Axes>"
      ]
     },
     "metadata": {},
     "output_type": "display_data"
    }
   ],
   "source": [
    "#(“Display Percentage above Bar Chart in Matplotlib,” 2021)\n",
    "route_counts = df.groupby(['Location', 'Routes']).size().unstack()\n",
    "\n",
    "# the total count for each warehouse block\n",
    "total_counts = route_counts.sum(axis=1)\n",
    "\n",
    "# the percentage for each bar\n",
    "percentages = route_counts.divide(total_counts, axis=0) * 100\n",
    "\n",
    "# Ploting the bar chart\n",
    "ax = route_counts.plot(kind='bar')\n",
    "\n",
    "# Adding percentage labels to each bar\n",
    "for i in range(len(route_counts)):\n",
    "    for j in range(len(route_counts.columns)):\n",
    "        value = route_counts.iloc[i, j]\n",
    "        percentage = percentages.iloc[i, j]\n",
    "        ax.text(i, value + 1, f'{percentage:.1f}%', ha='center')\n",
    "\n",
    "# labels and title\n",
    "plt.xlabel('Location')\n",
    "plt.ylabel('Count')\n",
    "plt.title('Location vs. Route')\n",
    "\n",
    "\n",
    "plt.show()"
   ]
  },
  {
   "cell_type": "code",
   "execution_count": 79,
   "id": "fa8a41d3",
   "metadata": {},
   "outputs": [],
   "source": [
    "#In Bangalore Route c can be more frequently used to reduce the cost as well in Mumbai,instaed of B, C can be used more often."
   ]
  },
  {
   "cell_type": "code",
   "execution_count": 80,
   "id": "3ecdbc4c",
   "metadata": {},
   "outputs": [
    {
     "name": "stdout",
     "output_type": "stream",
     "text": [
      "Product: haircare, Optimal Allocation: 55.0, Optimal Manufacturing Cost: 46.279879, Optimal Shipping Cost: 2.9565721, Optimal Profit: 214.23677390024216\n",
      "Product: skincare, Optimal Allocation: 95.0, Optimal Manufacturing Cost: 33.616769, Optimal Shipping Cost: 9.7165748, Optimal Profit: 494.0089082424549\n",
      "Product: cosmetics, Optimal Allocation: 59.0, Optimal Manufacturing Cost: 99.466109, Optimal Shipping Cost: 2.3483388, Optimal Profit: 747.8969263808373\n"
     ]
    },
    {
     "name": "stderr",
     "output_type": "stream",
     "text": [
      "C:\\Users\\anjan\\anaconda3\\lib\\site-packages\\pulp\\pulp.py:1352: UserWarning: Spaces are not permitted in the name. Converted to '_'\n",
      "  warnings.warn(\"Spaces are not permitted in the name. Converted to '_'\")\n"
     ]
    }
   ],
   "source": [
    "from pulp import *\n",
    "\n",
    "# Define the products and their respective manufacturing costs and shipping costs\n",
    "products = df['Product type'].unique()\n",
    "manufacturing_cost = df.groupby('Product type')['Manufacturing costs'].first().to_dict()\n",
    "shipping_cost = df.groupby('Product type')['Shipping costs'].first().to_dict()\n",
    "\n",
    "# Create the problem\n",
    "problem = LpProblem(\"Product Allocation Problem\", LpMaximize)\n",
    "\n",
    "# Define the decision variables\n",
    "allocation = LpVariable.dicts(\"Allocation\", products, lowBound=0, cat='Continuous')\n",
    "manufacturing_cost_variable = LpVariable.dicts(\"ManufacturingCost\", products, lowBound=0, cat='Continuous')\n",
    "shipping_cost_variable = LpVariable.dicts(\"ShippingCost\", products, lowBound=0, cat='Continuous')\n",
    "total_manufacturing_cost = LpVariable.dicts(\"TotalManufacturingCost\", products, lowBound=0, cat='Continuous')\n",
    "auxiliary_variable = LpVariable.dicts(\"Auxiliary\", products, lowBound=0, cat='Continuous')\n",
    "\n",
    "# Set the objective function\n",
    "profit = df.groupby('Product type')['Profit'].first().to_dict()\n",
    "shipping_cost = df.groupby('Product type')['Shipping costs'].first().to_dict()\n",
    "objective = lpSum([profit[p] * allocation[p] for p in products]) - lpSum([shipping_cost[p] * allocation[p] for p in products])\n",
    "problem += objective\n",
    "\n",
    "# Set the constraints\n",
    "for p in products:\n",
    "    problem += allocation[p] <= df.loc[df['Product type'] == p, 'Availability'].values[0]\n",
    "    problem += manufacturing_cost_variable[p] == manufacturing_cost[p]\n",
    "    problem += shipping_cost_variable[p] == shipping_cost[p]\n",
    "    problem += total_manufacturing_cost[p] <= df.loc[df['Product type'] == p, 'Manufacturing costs'].sum()\n",
    "    problem += auxiliary_variable[p] <= manufacturing_cost_variable[p]\n",
    "    problem += auxiliary_variable[p] <= allocation[p]\n",
    "    problem += total_manufacturing_cost[p] >= auxiliary_variable[p]\n",
    "    problem += total_manufacturing_cost[p] - auxiliary_variable[p] <= 0.001\n",
    "\n",
    "# Solve the problem\n",
    "problem.solve()\n",
    "\n",
    "# Print the optimal allocation, manufacturing cost, shipping cost, and profit for each product\n",
    "for p in products:\n",
    "    print(f\"Product: {p}, Optimal Allocation: {allocation[p].varValue}, Optimal Manufacturing Cost: {manufacturing_cost_variable[p].varValue}, Optimal Shipping Cost: {shipping_cost_variable[p].varValue}, Optimal Profit: {profit[p]}\")\n"
   ]
  },
  {
   "cell_type": "code",
   "execution_count": 81,
   "id": "647c4dd8",
   "metadata": {},
   "outputs": [],
   "source": [
    "#These results represent the recommended values for each variable that maximize the profit in the given optimization problem.\n",
    "\n",
    "#Optimal Allocation refers to the recommended number of units to allocate or produce for each product.\n",
    "#Optimal Manufacturing Cost indicates the cost incurred in manufacturing each unit of the product.\n",
    "#Optimal Shipping Cost represents the cost associated with shipping each unit of the product.\n",
    "#Optimal Profit is the maximum profit achievable based on the optimal allocation, manufacturing cost, and shipping cost.\n",
    "#By analyzing these results, you can make informed decisions about the production and allocation strategy for each product. It provides insights into the quantity to produce, the costs involved, and the expected profit."
   ]
  },
  {
   "cell_type": "code",
   "execution_count": 82,
   "id": "e5176e52",
   "metadata": {},
   "outputs": [
    {
     "name": "stdout",
     "output_type": "stream",
     "text": [
      "Product: haircare, Optimal Allocation: 55.0, Optimal Manufacturing Cost: 46.279879, Optimal Shipping Cost: 2.9565721, Price: 69.80800554211577, Optimal Profit: 214.23677390024216\n",
      "Product: skincare, Optimal Allocation: 95.0, Optimal Manufacturing Cost: 33.616769, Optimal Shipping Cost: 9.7165748, Price: 14.84352327508434, Optimal Profit: 494.0089082424549\n",
      "Product: cosmetics, Optimal Allocation: 59.0, Optimal Manufacturing Cost: 99.466109, Optimal Shipping Cost: 2.3483388, Price: 42.95838438246007, Optimal Profit: 747.8969263808373\n"
     ]
    },
    {
     "name": "stderr",
     "output_type": "stream",
     "text": [
      "C:\\Users\\anjan\\anaconda3\\lib\\site-packages\\pulp\\pulp.py:1352: UserWarning: Spaces are not permitted in the name. Converted to '_'\n",
      "  warnings.warn(\"Spaces are not permitted in the name. Converted to '_'\")\n"
     ]
    }
   ],
   "source": [
    "from pulp import *\n",
    "\n",
    "# Define the products and their respective manufacturing costs, shipping costs, and prices\n",
    "products = df['Product type'].unique()\n",
    "manufacturing_cost = df.groupby('Product type')['Manufacturing costs'].first().to_dict()\n",
    "shipping_cost = df.groupby('Product type')['Shipping costs'].first().to_dict()\n",
    "price = df.groupby('Product type')['Price'].first().to_dict()\n",
    "\n",
    "# Create the problem\n",
    "problem = LpProblem(\"Product Allocation Problem\", LpMaximize)\n",
    "\n",
    "# Define the decision variables\n",
    "allocation = LpVariable.dicts(\"Allocation\", products, lowBound=0, cat='Continuous')\n",
    "manufacturing_cost_variable = LpVariable.dicts(\"ManufacturingCost\", products, lowBound=0, cat='Continuous')\n",
    "shipping_cost_variable = LpVariable.dicts(\"ShippingCost\", products, lowBound=0, cat='Continuous')\n",
    "total_manufacturing_cost = LpVariable.dicts(\"TotalManufacturingCost\", products, lowBound=0, cat='Continuous')\n",
    "auxiliary_variable = LpVariable.dicts(\"Auxiliary\", products, lowBound=0, cat='Continuous')\n",
    "\n",
    "# Set the objective function\n",
    "profit = df.groupby('Product type')['Profit'].first().to_dict()\n",
    "objective = lpSum([profit[p] * allocation[p] for p in products]) - lpSum([shipping_cost[p] * allocation[p] for p in products]) - lpSum([price[p] * allocation[p] for p in products])\n",
    "problem += objective\n",
    "\n",
    "# Set the constraints\n",
    "for p in products:\n",
    "    problem += allocation[p] <= df.loc[df['Product type'] == p, 'Availability'].values[0]\n",
    "    problem += manufacturing_cost_variable[p] == manufacturing_cost[p]\n",
    "    problem += shipping_cost_variable[p] == shipping_cost[p]\n",
    "    problem += total_manufacturing_cost[p] <= df.loc[df['Product type'] == p, 'Manufacturing costs'].sum()\n",
    "    problem += auxiliary_variable[p] <= manufacturing_cost_variable[p]\n",
    "    problem += auxiliary_variable[p] <= allocation[p]\n",
    "    problem += total_manufacturing_cost[p] >= auxiliary_variable[p]\n",
    "    problem += total_manufacturing_cost[p] - auxiliary_variable[p] <= 0.001\n",
    "\n",
    "# Solve the problem\n",
    "problem.solve()\n",
    "\n",
    "# Print the optimal allocation, manufacturing cost, shipping cost, price, and profit for each product\n",
    "for p in products:\n",
    "    print(f\"Product: {p}, Optimal Allocation: {allocation[p].varValue}, Optimal Manufacturing Cost: {manufacturing_cost_variable[p].varValue}, Optimal Shipping Cost: {shipping_cost_variable[p].varValue}, Price: {price[p]}, Optimal Profit: {profit[p]}\")\n"
   ]
  },
  {
   "cell_type": "code",
   "execution_count": 83,
   "id": "e94d2cbe",
   "metadata": {},
   "outputs": [],
   "source": [
    "#For the \"haircare\" product, the optimal allocation is 55 units. The manufacturing cost for each unit is approximately 46.28, and the shipping cost is approximately 2.96. The price for each unit is 69.81, resulting in an optimal profit of 214.24.\n",
    "\n",
    "#For the \"skincare\" product, the optimal allocation is 95 units. The manufacturing cost for each unit is approximately 33.62, and the shipping cost is approximately 9.72. The price for each unit is 14.84, resulting in an optimal profit of 494.01.\n",
    "\n",
    "#For the \"cosmetics\" product, the optimal allocation is 59 units. The manufacturing cost for each unit is approximately 99.47, and the shipping cost is approximately 2.35. The price for each unit is 42.96, resulting in an optimal profit of 747.90.\n",
    "\n",
    "#From these results, we can observe the following:\n",
    "\n",
    "#The optimal allocation of units varies for each product, indicating the recommended quantity to produce or allocate.\n",
    "#The manufacturing cost and shipping cost contribute to the overall cost of producing and delivering the products.\n",
    "#The price per unit differs for each product, impacting the potential profit.\n",
    "#The optimal profit is calculated based on the allocated units, manufacturing cost, shipping cost, and price, providing insights into the expected financial gain.\n",
    "#These results suggest that the \"haircare\" product has a lower price per unit compared to its manufacturing and shipping costs, \n",
    "#resulting in a relatively lower profit compared to the other products. \n",
    "#On the other hand, the \"skincare\" product has a significantly lower price per unit, which might affect its profit margin. \n",
    "#The \"cosmetics\" product seems to have a higher price per unit and relatively higher profit.\n",
    "# So they can invest more in cosmetics which can increase their overall profit.\n",
    "\n",
    "#It's important to consider market demand, competition, and other factors when interpreting these results and making business decisions."
   ]
  },
  {
   "cell_type": "code",
   "execution_count": 84,
   "id": "c79d4bed",
   "metadata": {},
   "outputs": [
    {
     "name": "stdout",
     "output_type": "stream",
     "text": [
      "Requirement already satisfied: simpy in c:\\users\\anjan\\anaconda3\\lib\\site-packages (4.0.1)\n",
      "Note: you may need to restart the kernel to use updated packages.\n"
     ]
    }
   ],
   "source": [
    "pip install simpy\n"
   ]
  },
  {
   "cell_type": "code",
   "execution_count": 85,
   "id": "462c3103",
   "metadata": {},
   "outputs": [
    {
     "name": "stdout",
     "output_type": "stream",
     "text": [
      "Product: haircare, Optimal Allocation: 55, Optimal Manufacturing Cost: 46.27987924050832, Optimal Shipping Cost: 2.956572139430807, Optimal Profit: 214.23677390024216\n",
      "Product: skincare, Optimal Allocation: 95, Optimal Manufacturing Cost: 33.61676895373, Optimal Shipping Cost: 9.71657477143131, Optimal Profit: 494.0089082424549\n",
      "Product: cosmetics, Optimal Allocation: 59, Optimal Manufacturing Cost: 99.46610860359912, Optimal Shipping Cost: 2.3483387844177805, Optimal Profit: 747.8969263808373\n"
     ]
    }
   ],
   "source": [
    "import simpy\n",
    "\n",
    "\n",
    "# Define a process that represents the manufacturing and shipping of a product\n",
    "def process_product(env, name, allocation):\n",
    "    manufacturing_cost = df.loc[df['Product type'] == name, 'Manufacturing costs'].iloc[0]\n",
    "    shipping_cost = df.loc[df['Product type'] == name, 'Shipping costs'].iloc[0]\n",
    "\n",
    "    yield availability.get(allocation)\n",
    "    \n",
    "    manufacturing_cost_total = manufacturing_cost\n",
    "    shipping_cost_total = shipping_cost\n",
    "    profit_total = df.loc[df['Product type'] == name, 'Profit'].iloc[0] \n",
    "\n",
    "    print(f\"Product: {name}, Optimal Allocation: {allocation}, Optimal Manufacturing Cost: {manufacturing_cost_total}, Optimal Shipping Cost: {shipping_cost_total}, Optimal Profit: {profit_total}\")\n",
    "\n",
    "# Define the simulation environment\n",
    "env = simpy.Environment()\n",
    "\n",
    "# Define the availability resource\n",
    "initial_availability = df['Availability'].sum()  # Calculate the sum of availability\n",
    "availability = simpy.Container(env, capacity=initial_availability, init=initial_availability)\n",
    "\n",
    "# Define the product processes\n",
    "for name in df['Product type'].unique():\n",
    "    allocation = df.loc[df['Product type'] == name, 'Availability'].iloc[0]\n",
    "    env.process(process_product(env, name, allocation))\n",
    "\n",
    "# Run the simulation\n",
    "env.run()\n"
   ]
  },
  {
   "cell_type": "code",
   "execution_count": null,
   "id": "a77921e2",
   "metadata": {},
   "outputs": [],
   "source": [
    "#it suggests that the simulation model accurately represents the optimization model. \n",
    "#This is a positive outcome, as it indicates that the simulation is capturing the expected behavior and providing consistent results.\n",
    "#As simulation results align with the optimized values, it indicates that the simulation model is well-designed and provides a reliable representation of the system's behavior and optimization outcomes."
   ]
  }
 ],
 "metadata": {
  "kernelspec": {
   "display_name": "Python 3 (ipykernel)",
   "language": "python",
   "name": "python3"
  },
  "language_info": {
   "codemirror_mode": {
    "name": "ipython",
    "version": 3
   },
   "file_extension": ".py",
   "mimetype": "text/x-python",
   "name": "python",
   "nbconvert_exporter": "python",
   "pygments_lexer": "ipython3",
   "version": "3.9.13"
  }
 },
 "nbformat": 4,
 "nbformat_minor": 5
}
